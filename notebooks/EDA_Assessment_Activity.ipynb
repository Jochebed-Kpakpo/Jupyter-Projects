{
 "cells": [
  {
   "cell_type": "markdown",
   "id": "425f90be",
   "metadata": {},
   "source": [
    "# End-of-Unit Assessment: Exploratory Data Analysis (EDA)\n",
    "\n",
    "This assessment will guide you through analysing sales data. You will identify and clean anomalies, create visualisations, and reflect on your findings. \n",
    "\n",
    "Partial code is provided to support your learning while challenging you to complete the tasks.\n",
    "\n",
    "Each task section includes instructions TODO comments where you must write code.\n"
   ]
  },
  {
   "cell_type": "markdown",
   "id": "e52bdf43",
   "metadata": {},
   "source": [
    "### Dataset Context\n",
    "The dataset contains sales data for an online store, including:\n",
    "- **order_date**: Date of the transaction.\n",
    "- **product_category**: Category of the product sold.\n",
    "- **sales_amount**: Revenue generated from the sale (contains missing values and outliers).\n",
    "- **quantity**: Number of items sold.\n",
    "- **customer_region**: Region of the customer."
   ]
  },
  {
   "cell_type": "markdown",
   "id": "1a22395b",
   "metadata": {},
   "source": [
    "### Task 1: Load and Inspect the Data\n",
    "1. Load the dataset into a Pandas DataFrame.\n",
    "2. Inspect the first few rows of the dataset.\n",
    "3. Generate summary statistics."
   ]
  },
  {
   "cell_type": "code",
   "execution_count": 4,
   "id": "77a0cb29",
   "metadata": {},
   "outputs": [
    {
     "name": "stderr",
     "output_type": "stream",
     "text": [
      "<>:7: SyntaxWarning: invalid escape sequence '\\d'\n",
      "<>:7: SyntaxWarning: invalid escape sequence '\\d'\n",
      "C:\\Users\\allot\\AppData\\Local\\Temp\\ipykernel_128328\\968819563.py:7: SyntaxWarning: invalid escape sequence '\\d'\n",
      "  df = pd.read_csv(\"..\\data\\sales_data.csv\") # TODO: Lod the dataset\n"
     ]
    },
    {
     "ename": "ModuleNotFoundError",
     "evalue": "No module named 'pandas'",
     "output_type": "error",
     "traceback": [
      "\u001b[1;31m---------------------------------------------------------------------------\u001b[0m",
      "\u001b[1;31mModuleNotFoundError\u001b[0m                       Traceback (most recent call last)",
      "Cell \u001b[1;32mIn[4], line 4\u001b[0m\n\u001b[0;32m      1\u001b[0m \u001b[38;5;66;03m### Task 1: Load and Inspect the Data\u001b[39;00m\n\u001b[0;32m      2\u001b[0m \n\u001b[0;32m      3\u001b[0m \u001b[38;5;66;03m# Import necessary libraries\u001b[39;00m\n\u001b[1;32m----> 4\u001b[0m \u001b[38;5;28;01mimport\u001b[39;00m\u001b[38;5;250m \u001b[39m\u001b[38;5;21;01mpandas\u001b[39;00m\u001b[38;5;250m \u001b[39m\u001b[38;5;28;01mas\u001b[39;00m\u001b[38;5;250m \u001b[39m\u001b[38;5;21;01mpd\u001b[39;00m\n\u001b[0;32m      6\u001b[0m \u001b[38;5;66;03m# Load the dataset\u001b[39;00m\n\u001b[0;32m      7\u001b[0m df \u001b[38;5;241m=\u001b[39m pd\u001b[38;5;241m.\u001b[39mread_csv(\u001b[38;5;124m\"\u001b[39m\u001b[38;5;124m..\u001b[39m\u001b[38;5;124m\\\u001b[39m\u001b[38;5;124mdata\u001b[39m\u001b[38;5;124m\\\u001b[39m\u001b[38;5;124msales_data.csv\u001b[39m\u001b[38;5;124m\"\u001b[39m) \u001b[38;5;66;03m# TODO: Lod the dataset\u001b[39;00m\n",
      "\u001b[1;31mModuleNotFoundError\u001b[0m: No module named 'pandas'"
     ]
    }
   ],
   "source": [
    "### Task 1: Load and Inspect the Data\n",
    "\n",
    "# Import necessary libraries\n",
    "import pandas as pd\n",
    "\n",
    "# Load the dataset\n",
    "df = pd.read_csv(\"..\\data\\sales_data.csv\") # TODO: Lod the dataset\n",
    "\n",
    "# Inspect the first few rows\n",
    "print(\"First Few Rows of the Dataset:\")\n",
    "print(df.head())  # TODO: Fill in the method to view the dataset\n",
    "\n",
    "# Generate summary statistics\n",
    "print(\"\\nSummary Statistics:\")\n",
    "print(df.describe()) # TODO: Fill in the method to generate summary statistics"
   ]
  },
  {
   "cell_type": "markdown",
   "id": "82234ec9",
   "metadata": {},
   "source": [
    "### Task 2: Identify Anomalies\n",
    "\n",
    "1. Check for missing values.\n",
    "2. Check for duplicate rows."
   ]
  },
  {
   "cell_type": "code",
   "execution_count": 3,
   "id": "1b6c71bb",
   "metadata": {},
   "outputs": [
    {
     "name": "stdout",
     "output_type": "stream",
     "text": [
      "Missing Values:\n"
     ]
    },
    {
     "ename": "NameError",
     "evalue": "name 'df' is not defined",
     "output_type": "error",
     "traceback": [
      "\u001b[1;31m---------------------------------------------------------------------------\u001b[0m",
      "\u001b[1;31mNameError\u001b[0m                                 Traceback (most recent call last)",
      "Cell \u001b[1;32mIn[3], line 5\u001b[0m\n\u001b[0;32m      1\u001b[0m \u001b[38;5;66;03m### Task 2: Identify Anomalies\u001b[39;00m\n\u001b[0;32m      2\u001b[0m \n\u001b[0;32m      3\u001b[0m \u001b[38;5;66;03m# Check for missing values\u001b[39;00m\n\u001b[0;32m      4\u001b[0m \u001b[38;5;28mprint\u001b[39m(\u001b[38;5;124m\"\u001b[39m\u001b[38;5;124mMissing Values:\u001b[39m\u001b[38;5;124m\"\u001b[39m)\n\u001b[1;32m----> 5\u001b[0m \u001b[38;5;28mprint\u001b[39m(\u001b[43mdf\u001b[49m\u001b[38;5;241m.\u001b[39minfo())  \u001b[38;5;66;03m# TODO: Fill in the method to check for missing values\u001b[39;00m\n\u001b[0;32m      7\u001b[0m \u001b[38;5;66;03m# Check for duplicate rows\u001b[39;00m\n\u001b[0;32m      8\u001b[0m \u001b[38;5;28mprint\u001b[39m(\u001b[38;5;124m\"\u001b[39m\u001b[38;5;124mDuplicate Rows:\u001b[39m\u001b[38;5;124m\"\u001b[39m, df\u001b[38;5;241m.\u001b[39mduplicated())  \u001b[38;5;66;03m# TODO: Fill in the method to count duplicates\u001b[39;00m\n",
      "\u001b[1;31mNameError\u001b[0m: name 'df' is not defined"
     ]
    }
   ],
   "source": [
    "### Task 2: Identify Anomalies\n",
    "\n",
    "# Check for missing values\n",
    "print(\"Missing Values:\")\n",
    "print(df.info())  # TODO: Fill in the method to check for missing values\n",
    "\n",
    "# Check for duplicate rows\n",
    "print(\"Duplicate Rows:\", df.duplicated())  # TODO: Fill in the method to count duplicates\n"
   ]
  },
  {
   "cell_type": "markdown",
   "id": "d2180117",
   "metadata": {},
   "source": [
    "### Task 3: Data Cleaning"
   ]
  },
  {
   "cell_type": "code",
   "execution_count": 1,
   "id": "a81fadb4",
   "metadata": {},
   "outputs": [
    {
     "ename": "NameError",
     "evalue": "name 'df' is not defined",
     "output_type": "error",
     "traceback": [
      "\u001b[1;31m---------------------------------------------------------------------------\u001b[0m",
      "\u001b[1;31mNameError\u001b[0m                                 Traceback (most recent call last)",
      "Cell \u001b[1;32mIn[1], line 4\u001b[0m\n\u001b[0;32m      1\u001b[0m \u001b[38;5;66;03m### Task 3: Data Cleaning\u001b[39;00m\n\u001b[0;32m      2\u001b[0m \n\u001b[0;32m      3\u001b[0m \u001b[38;5;66;03m# Fill missing values in sales_amount with the median\u001b[39;00m\n\u001b[1;32m----> 4\u001b[0m df[\u001b[38;5;124m'\u001b[39m\u001b[38;5;124msales_amount\u001b[39m\u001b[38;5;124m'\u001b[39m] \u001b[38;5;241m=\u001b[39m \u001b[43mdf\u001b[49m[\u001b[38;5;124m'\u001b[39m\u001b[38;5;124msales_amount\u001b[39m\u001b[38;5;124m'\u001b[39m]\u001b[38;5;241m.\u001b[39mfillna(df[\u001b[38;5;124m'\u001b[39m\u001b[38;5;124msales_amount\u001b[39m\u001b[38;5;124m'\u001b[39m]\u001b[38;5;241m.\u001b[39mmedian()) \u001b[38;5;66;03m# TODO: Fill in the method\u001b[39;00m\n\u001b[0;32m      6\u001b[0m \u001b[38;5;66;03m# Remove duplicate rows\u001b[39;00m\n\u001b[0;32m      7\u001b[0m df\u001b[38;5;241m.\u001b[39mdrop_duplicates()  \u001b[38;5;66;03m# TODO: Fill in the method to drop duplicates\u001b[39;00m\n",
      "\u001b[1;31mNameError\u001b[0m: name 'df' is not defined"
     ]
    }
   ],
   "source": [
    "### Task 3: Data Cleaning\n",
    "\n",
    "# Fill missing values in sales_amount with the median\n",
    "df['sales_amount'] = df['sales_amount'].fillna(df['sales_amount'].median()) # TODO: Fill in the method\n",
    "\n",
    "# Remove duplicate rows\n",
    "df.drop_duplicates()  # TODO: Fill in the method to drop duplicates\n",
    "\n",
    "# Handle outliers in sales_amount using IQR\n",
    "Q1 = df['sales_amount'].quantile(0.25)\n",
    "Q3 = df['sales_amount'].quantile(0.75)\n",
    "IQR = Q3 - Q1\n",
    "lower_bound = Q1 - 1.5 * IQR  \n",
    "upper_bound = Q3 + 1.5 * IQR  \n",
    "\n",
    "# TODO: Filter the dataset to remove outliers\n",
    "df= df[(df['sales_amount'] >= lower_bound) & (df['sales_amount'] <= upper_bound )]\n",
    "\n",
    "# Verify the cleaned data\n",
    "print(\"\\nCleaned Dataset:\")\n",
    "print(df)\n"
   ]
  },
  {
   "cell_type": "markdown",
   "id": "5d75b38a",
   "metadata": {},
   "source": [
    "### Task 4: Visual Exploration\n",
    "1. Create a histogram to show the distribution of sales amounts across all transactions.\n",
    "2. Create a bar plot to show the average sales amount by quantity."
   ]
  },
  {
   "cell_type": "code",
   "execution_count": 71,
   "id": "95cbc3ae",
   "metadata": {},
   "outputs": [
    {
     "data": {
      "image/png": "[encoded data removed]",
      "text/plain": [
       "<Figure size 800x600 with 1 Axes>"
      ]
     },
     "metadata": {},
     "output_type": "display_data"
    }
   ],
   "source": [
    "### Task 4: Visual Exploration\n",
    "\n",
    "# Create a histogram for sales_amount\n",
    "import matplotlib.pyplot as plt\n",
    "import seaborn as sns\n",
    "\n",
    "plt.figure(figsize=(8, 6))\n",
    "sns.histplot(df['sales_amount'], bins=5, kde=True)  # TODO: Add the column name\n",
    "plt.title('Distribution of Sales Amount')\n",
    "plt.xlabel('Sales Amount') # TODO: Add the appropriate title.\n",
    "plt.ylabel('Frequency')\n",
    "plt.show()"
   ]
  },
  {
   "cell_type": "code",
   "execution_count": 38,
   "id": "ea0dddeb",
   "metadata": {},
   "outputs": [
    {
     "data": {
      "image/png": "[encoded data removed]",
      "text/plain": [
       "<Figure size 800x600 with 1 Axes>"
      ]
     },
     "metadata": {},
     "output_type": "display_data"
    }
   ],
   "source": [
    "# Create a Bar plot for average sales_amount by quantity\n",
    "average_sales = df.groupby('sales_amount')['quantity'].mean()  # TODO: Fill in the columns\n",
    "\n",
    "plt.figure(figsize=(8, 6))\n",
    "average_sales.plot(kind='bar', color='skyblue')\n",
    "plt.title('Average Sales Amount by Quantity')\n",
    "plt.xlabel('Quantity') # TODO: Add the appropriate title.\n",
    "plt.ylabel('Average Sales Amount')\n",
    "plt.xticks(rotation=0)\n",
    "plt.show()\n"
   ]
  },
  {
   "cell_type": "markdown",
   "id": "1fde93e2",
   "metadata": {},
   "source": [
    "### Task 5: Feature Engineering\n",
    "1. Create a new column called `sales_per_unit` to represent the average sales amount per unit sold.\n",
    "This column can help us interpret the data by providing insights into pricing strategies and product value."
   ]
  },
  {
   "cell_type": "code",
   "execution_count": null,
   "id": "bcc7578b",
   "metadata": {},
   "outputs": [
    {
     "name": "stdout",
     "output_type": "stream",
     "text": [
      "Average Sales Per Unit by Product Category:\n",
      "product_category\n",
      "Books          168.750000\n",
      "Clothing        75.625000\n",
      "Electronics    100.000000\n",
      "Home            83.333333\n",
      "Toys           150.000000\n",
      "Name: sales_per_unit, dtype: float64\n"
     ]
    }
   ],
   "source": [
    "### Task 5: Feature Engineering\n",
    "\n",
    "# Create a new column 'sales_per_unit' by dividing sales_amount by quantity\n",
    "# This column represents the average sales amount per unit sold.\n",
    "df['sales_per_unit'] = df['sales_amount'] / df['quantity'] # TODO: Fill in the columns\n",
    "\n",
    "# Aggregate the new column 'sales_per_unit_' by product_category\n",
    "category_aggregation = df.groupby('product_category')['sales_per_unit'].mean() # TODO: Fill in the columns\n",
    "\n",
    "#  Display the results\n",
    "print(\"Average Sales Per Unit by Product Category:\")\n",
    "print(category_aggregation)\n",
    "\n",
    "\n"
   ]
  },
  {
   "cell_type": "markdown",
   "id": "dcba1d4f",
   "metadata": {},
   "source": [
    "### Task 6:  Actionable Insights\n",
    "Provide your responses below."
   ]
  },
  {
   "cell_type": "markdown",
   "id": "8383dd0f",
   "metadata": {},
   "source": [
    "#### Question 1: Identifying Key Price Ranges\n",
    "- Look at the histogram for `sales_amount` in `Task 4`. Which range of sales amounts has the highest frequency?\n",
    "- How might the business use this information to shape its promotions or pricing strategy?\n",
    "\n"
   ]
  },
  {
   "cell_type": "code",
   "execution_count": null,
   "id": "08af5cdf",
   "metadata": {},
   "outputs": [],
   "source": [
    "#250- 300 have the highest frequency with a count of about 8. \n",
    "#This shows that products within that price range are high in demand as such the business can increase the price slightly and improve promtion strategies for the lower priced products. "
   ]
  },
  {
   "cell_type": "markdown",
   "id": "3fa4edb6",
   "metadata": {},
   "source": [
    "#### Question 2: Maximising Profitability Through Quantity\n",
    "- Based on the bar plot in `Task 4` showing average sales amounts by quantity, which quantity level has the highest average sales amount?\n",
    "- How could the business encourage customers to buy more items per transaction? \n",
    "\n"
   ]
  },
  {
   "cell_type": "code",
   "execution_count": null,
   "id": "f6a05ed0",
   "metadata": {},
   "outputs": [],
   "source": [
    "#The business can encourage customers to buy more by offering discounts on larger purchases making it a better deal for them."
   ]
  },
  {
   "cell_type": "markdown",
   "id": "1298a804",
   "metadata": {},
   "source": [
    "#### Question 3: Leveraging High-Value Categories\n",
    "- Look at the aggregated `sales_per_unit` values by product_category in `Task 5`. Which category has the highest average sales per unit?\n",
    "- How could the business focus on this category to maximise revenue?\n",
    "\n"
   ]
  },
  {
   "cell_type": "code",
   "execution_count": null,
   "id": "19a59915",
   "metadata": {},
   "outputs": [],
   "source": [
    "#Books has the highest average sales per unit. The business can promote books more through targeted ads and thorough offering discounts on large purchases."
   ]
  },
  {
   "cell_type": "markdown",
   "id": "34f55a40",
   "metadata": {},
   "source": [
    "#### Question 4: Integrating Insights: Visual and Non-Visual Analysis\n",
    "- How did visual analysis reinforce or clarify trends observed in the non-visual analysis?"
   ]
  },
  {
   "cell_type": "code",
   "execution_count": null,
   "id": "c028a7e6",
   "metadata": {},
   "outputs": [],
   "source": [
    "# The visual representation made it easier to identify the trends and key metrics that were present in the non-visual analysis\n"
   ]
  }
 ],
 "metadata": {
  "kernelspec": {
   "display_name": "Python 3",
   "language": "python",
   "name": "python3"
  },
  "language_info": {
   "codemirror_mode": {
    "name": "ipython",
    "version": 3
   },
   "file_extension": ".py",
   "mimetype": "text/x-python",
   "name": "python",
   "nbconvert_exporter": "python",
   "pygments_lexer": "ipython3",
   "version": "3.12.8"
  }
 },
 "nbformat": 4,
 "nbformat_minor": 5
}
