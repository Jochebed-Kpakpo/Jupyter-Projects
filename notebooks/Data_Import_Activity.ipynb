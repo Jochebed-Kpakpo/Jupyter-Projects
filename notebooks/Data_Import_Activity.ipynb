{
 "cells": [
  {
   "cell_type": "markdown",
   "id": "1a8f9c5f",
   "metadata": {},
   "source": [
    "# Data Import and Manipulation Activity\n",
    "In this activity, you will import a CSV file and an Excel file using Pandas, then perform basic data manipulations."
   ]
  },
  {
   "cell_type": "markdown",
   "id": "9c45395c",
   "metadata": {},
   "source": [
    "## Set Up a Virtual Environment\n",
    "\n",
    "In the terminal, navigate to your project folder and run the following command to create a virtual environment:\n",
    "\n",
    "\n",
    "\n",
    "```bash\n",
    "python -m venv .venv\n",
    "```\n",
    "\n",
    "Activate the virtual environment by running:\n",
    "\n",
    "- **Windows**: `.venv\\Scripts\\activate`\n",
    "- **macOS/Linux**: `source .venv/bin/activate`\n",
    "\n",
    "Once activated, you should see your virtual environment’s name in the terminal prompt."
   ]
  },
  {
   "cell_type": "markdown",
   "id": "9ac8fc9d",
   "metadata": {},
   "source": [
    "## Select Kernel\n",
    "Click on the kernel dropdown and choose the virtual environment you just activated (e.g., .venv)."
   ]
  },
  {
   "cell_type": "markdown",
   "id": "1c3530a0",
   "metadata": {},
   "source": [
    "## Install openpyxl\n",
    "\n",
    "With the virtual environment activated, install the openpyxl library by running:\n",
    "\n",
    "```bash\n",
    "pip install openpyxl\n",
    "```"
   ]
  },
  {
   "cell_type": "markdown",
   "id": "3e23b4ef",
   "metadata": {},
   "source": [
    "### Part 1: Importing Data"
   ]
  },
  {
   "cell_type": "code",
   "execution_count": 1,
   "id": "d82afccf",
   "metadata": {},
   "outputs": [
    {
     "name": "stdout",
     "output_type": "stream",
     "text": [
      "CSV Data:\n"
     ]
    },
    {
     "data": {
      "text/html": [
       "<div>\n",
       "<style scoped>\n",
       "    .dataframe tbody tr th:only-of-type {\n",
       "        vertical-align: middle;\n",
       "    }\n",
       "\n",
       "    .dataframe tbody tr th {\n",
       "        vertical-align: top;\n",
       "    }\n",
       "\n",
       "    .dataframe thead th {\n",
       "        text-align: right;\n",
       "    }\n",
       "</style>\n",
       "<table border=\"1\" class=\"dataframe\">\n",
       "  <thead>\n",
       "    <tr style=\"text-align: right;\">\n",
       "      <th></th>\n",
       "      <th>Name</th>\n",
       "      <th>Age</th>\n",
       "      <th>Score</th>\n",
       "    </tr>\n",
       "  </thead>\n",
       "  <tbody>\n",
       "    <tr>\n",
       "      <th>0</th>\n",
       "      <td>Alice</td>\n",
       "      <td>23</td>\n",
       "      <td>88</td>\n",
       "    </tr>\n",
       "    <tr>\n",
       "      <th>1</th>\n",
       "      <td>Bob</td>\n",
       "      <td>34</td>\n",
       "      <td>92</td>\n",
       "    </tr>\n",
       "    <tr>\n",
       "      <th>2</th>\n",
       "      <td>Charlie</td>\n",
       "      <td>45</td>\n",
       "      <td>95</td>\n",
       "    </tr>\n",
       "    <tr>\n",
       "      <th>3</th>\n",
       "      <td>David</td>\n",
       "      <td>28</td>\n",
       "      <td>78</td>\n",
       "    </tr>\n",
       "    <tr>\n",
       "      <th>4</th>\n",
       "      <td>Eve</td>\n",
       "      <td>30</td>\n",
       "      <td>85</td>\n",
       "    </tr>\n",
       "  </tbody>\n",
       "</table>\n",
       "</div>"
      ],
      "text/plain": [
       "      Name  Age  Score\n",
       "0    Alice   23     88\n",
       "1      Bob   34     92\n",
       "2  Charlie   45     95\n",
       "3    David   28     78\n",
       "4      Eve   30     85"
      ]
     },
     "execution_count": 1,
     "metadata": {},
     "output_type": "execute_result"
    }
   ],
   "source": [
    "import pandas as pd\n",
    "\n",
    "# Load the CSV file\n",
    "csv_data = pd.read_csv('../data/example_data.csv')\n",
    "print('CSV Data:')\n",
    "csv_data.head()"
   ]
  },
  {
   "cell_type": "code",
   "execution_count": 2,
   "id": "904fe760",
   "metadata": {},
   "outputs": [
    {
     "name": "stdout",
     "output_type": "stream",
     "text": [
      "Excel Data:\n"
     ]
    },
    {
     "data": {
      "text/html": [
       "<div>\n",
       "<style scoped>\n",
       "    .dataframe tbody tr th:only-of-type {\n",
       "        vertical-align: middle;\n",
       "    }\n",
       "\n",
       "    .dataframe tbody tr th {\n",
       "        vertical-align: top;\n",
       "    }\n",
       "\n",
       "    .dataframe thead th {\n",
       "        text-align: right;\n",
       "    }\n",
       "</style>\n",
       "<table border=\"1\" class=\"dataframe\">\n",
       "  <thead>\n",
       "    <tr style=\"text-align: right;\">\n",
       "      <th></th>\n",
       "      <th>Name</th>\n",
       "      <th>Age</th>\n",
       "      <th>Score</th>\n",
       "    </tr>\n",
       "  </thead>\n",
       "  <tbody>\n",
       "    <tr>\n",
       "      <th>0</th>\n",
       "      <td>Alice</td>\n",
       "      <td>23</td>\n",
       "      <td>88</td>\n",
       "    </tr>\n",
       "    <tr>\n",
       "      <th>1</th>\n",
       "      <td>Bob</td>\n",
       "      <td>34</td>\n",
       "      <td>92</td>\n",
       "    </tr>\n",
       "    <tr>\n",
       "      <th>2</th>\n",
       "      <td>Charlie</td>\n",
       "      <td>45</td>\n",
       "      <td>95</td>\n",
       "    </tr>\n",
       "    <tr>\n",
       "      <th>3</th>\n",
       "      <td>David</td>\n",
       "      <td>28</td>\n",
       "      <td>78</td>\n",
       "    </tr>\n",
       "    <tr>\n",
       "      <th>4</th>\n",
       "      <td>Eve</td>\n",
       "      <td>30</td>\n",
       "      <td>85</td>\n",
       "    </tr>\n",
       "  </tbody>\n",
       "</table>\n",
       "</div>"
      ],
      "text/plain": [
       "      Name  Age  Score\n",
       "0    Alice   23     88\n",
       "1      Bob   34     92\n",
       "2  Charlie   45     95\n",
       "3    David   28     78\n",
       "4      Eve   30     85"
      ]
     },
     "execution_count": 2,
     "metadata": {},
     "output_type": "execute_result"
    }
   ],
   "source": [
    "# Load the Excel file\n",
    "excel_data = pd.read_excel('../data/example_data.xlsx')\n",
    "print('Excel Data:')\n",
    "excel_data.head()"
   ]
  },
  {
   "cell_type": "markdown",
   "id": "d5ce78c4",
   "metadata": {},
   "source": [
    "### Part 2: Basic Data Manipulations"
   ]
  },
  {
   "cell_type": "code",
   "execution_count": 3,
   "id": "70dda737",
   "metadata": {},
   "outputs": [],
   "source": [
    "# Rename columns (replace 'OldColumnName' with actual column names)\n",
    "csv_data_renamed = csv_data.rename(columns={'Name': 'Full Name'})\n",
    "excel_data_renamed = excel_data.rename(columns={'Name': 'Full Name'})"
   ]
  },
  {
   "cell_type": "code",
   "execution_count": 4,
   "id": "410dd0f1",
   "metadata": {},
   "outputs": [],
   "source": [
    "# Filter rows (example: filtering where Age > 25)\n",
    "csv_filtered = csv_data_renamed[csv_data_renamed['Age'] > 25]\n",
    "excel_filtered = excel_data_renamed[excel_data_renamed['Age'] > 25]"
   ]
  },
  {
   "cell_type": "code",
   "execution_count": 5,
   "id": "b9d76986",
   "metadata": {},
   "outputs": [],
   "source": [
    "# Sort the data by Score\n",
    "csv_sorted = csv_filtered.sort_values(by='Score')\n",
    "excel_sorted = excel_filtered.sort_values(by='Score')"
   ]
  },
  {
   "cell_type": "code",
   "execution_count": 6,
   "id": "801adf78",
   "metadata": {},
   "outputs": [
    {
     "name": "stdout",
     "output_type": "stream",
     "text": [
      "CSV Data (Manipulated):\n"
     ]
    },
    {
     "data": {
      "text/html": [
       "<div>\n",
       "<style scoped>\n",
       "    .dataframe tbody tr th:only-of-type {\n",
       "        vertical-align: middle;\n",
       "    }\n",
       "\n",
       "    .dataframe tbody tr th {\n",
       "        vertical-align: top;\n",
       "    }\n",
       "\n",
       "    .dataframe thead th {\n",
       "        text-align: right;\n",
       "    }\n",
       "</style>\n",
       "<table border=\"1\" class=\"dataframe\">\n",
       "  <thead>\n",
       "    <tr style=\"text-align: right;\">\n",
       "      <th></th>\n",
       "      <th>Full Name</th>\n",
       "      <th>Age</th>\n",
       "      <th>Score</th>\n",
       "    </tr>\n",
       "  </thead>\n",
       "  <tbody>\n",
       "    <tr>\n",
       "      <th>3</th>\n",
       "      <td>David</td>\n",
       "      <td>28</td>\n",
       "      <td>78</td>\n",
       "    </tr>\n",
       "    <tr>\n",
       "      <th>4</th>\n",
       "      <td>Eve</td>\n",
       "      <td>30</td>\n",
       "      <td>85</td>\n",
       "    </tr>\n",
       "    <tr>\n",
       "      <th>1</th>\n",
       "      <td>Bob</td>\n",
       "      <td>34</td>\n",
       "      <td>92</td>\n",
       "    </tr>\n",
       "    <tr>\n",
       "      <th>2</th>\n",
       "      <td>Charlie</td>\n",
       "      <td>45</td>\n",
       "      <td>95</td>\n",
       "    </tr>\n",
       "  </tbody>\n",
       "</table>\n",
       "</div>"
      ],
      "text/plain": [
       "  Full Name  Age  Score\n",
       "3     David   28     78\n",
       "4       Eve   30     85\n",
       "1       Bob   34     92\n",
       "2   Charlie   45     95"
      ]
     },
     "execution_count": 6,
     "metadata": {},
     "output_type": "execute_result"
    }
   ],
   "source": [
    "print('CSV Data (Manipulated):')\n",
    "csv_sorted"
   ]
  },
  {
   "cell_type": "code",
   "execution_count": 7,
   "id": "25a5d79b",
   "metadata": {},
   "outputs": [
    {
     "name": "stdout",
     "output_type": "stream",
     "text": [
      "Excel Data (Manipulated):\n"
     ]
    },
    {
     "data": {
      "text/html": [
       "<div>\n",
       "<style scoped>\n",
       "    .dataframe tbody tr th:only-of-type {\n",
       "        vertical-align: middle;\n",
       "    }\n",
       "\n",
       "    .dataframe tbody tr th {\n",
       "        vertical-align: top;\n",
       "    }\n",
       "\n",
       "    .dataframe thead th {\n",
       "        text-align: right;\n",
       "    }\n",
       "</style>\n",
       "<table border=\"1\" class=\"dataframe\">\n",
       "  <thead>\n",
       "    <tr style=\"text-align: right;\">\n",
       "      <th></th>\n",
       "      <th>Full Name</th>\n",
       "      <th>Age</th>\n",
       "      <th>Score</th>\n",
       "    </tr>\n",
       "  </thead>\n",
       "  <tbody>\n",
       "    <tr>\n",
       "      <th>3</th>\n",
       "      <td>David</td>\n",
       "      <td>28</td>\n",
       "      <td>78</td>\n",
       "    </tr>\n",
       "    <tr>\n",
       "      <th>4</th>\n",
       "      <td>Eve</td>\n",
       "      <td>30</td>\n",
       "      <td>85</td>\n",
       "    </tr>\n",
       "    <tr>\n",
       "      <th>1</th>\n",
       "      <td>Bob</td>\n",
       "      <td>34</td>\n",
       "      <td>92</td>\n",
       "    </tr>\n",
       "    <tr>\n",
       "      <th>2</th>\n",
       "      <td>Charlie</td>\n",
       "      <td>45</td>\n",
       "      <td>95</td>\n",
       "    </tr>\n",
       "  </tbody>\n",
       "</table>\n",
       "</div>"
      ],
      "text/plain": [
       "  Full Name  Age  Score\n",
       "3     David   28     78\n",
       "4       Eve   30     85\n",
       "1       Bob   34     92\n",
       "2   Charlie   45     95"
      ]
     },
     "execution_count": 7,
     "metadata": {},
     "output_type": "execute_result"
    }
   ],
   "source": [
    "print('Excel Data (Manipulated):')\n",
    "excel_sorted"
   ]
  }
 ],
 "metadata": {
  "kernelspec": {
   "display_name": ".venv",
   "language": "python",
   "name": "python3"
  },
  "language_info": {
   "codemirror_mode": {
    "name": "ipython",
    "version": 3
   },
   "file_extension": ".py",
   "mimetype": "text/x-python",
   "name": "python",
   "nbconvert_exporter": "python",
   "pygments_lexer": "ipython3",
   "version": "3.12.8"
  }
 },
 "nbformat": 4,
 "nbformat_minor": 5
}
