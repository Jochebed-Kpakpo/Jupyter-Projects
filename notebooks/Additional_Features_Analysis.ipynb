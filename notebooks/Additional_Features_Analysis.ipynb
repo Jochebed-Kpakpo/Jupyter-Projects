{
 "cells": [
  {
   "cell_type": "markdown",
   "metadata": {},
   "source": [
    "# Additional Feature Ideas for the Dataset\n",
    "This notebook demonstrates how to create additional features to analyse the dataset."
   ]
  },
  {
   "cell_type": "code",
   "execution_count": null,
   "metadata": {},
   "outputs": [],
   "source": [
    "# Importing necessary libraries\n",
    "import pandas as pd\n",
    "\n",
    "# Load the dataset\n",
    "data = pd.read_csv('../data/sales_data.csv')\n",
    "data.head()"
   ]
  },
  {
   "cell_type": "markdown",
   "metadata": {},
   "source": [
    "### 1. Sales Performance by Region\n",
    "**Feature:** Calculate total or average sales for each region.\n",
    "\n",
    "**Why it’s useful:**\n",
    " Highlights which regions perform better in terms of sales, enabling focused analysis or decision-making."
   ]
  },
  {
   "cell_type": "code",
   "execution_count": null,
   "metadata": {},
   "outputs": [],
   "source": [
    "# sales performance by region\n",
    "sales_by_region = data.groupby('Region')['Sales'].sum().reset_index()\n",
    "print(sales_by_region)"
   ]
  },
  {
   "cell_type": "markdown",
   "metadata": {},
   "source": [
    "### 2. Sales Growth Rate\n",
    "**Feature:** Calculate the percentage change in sales day-over-day.\n",
    "\n",
    "**Why it’s useful:** Helps identify trends or periods of growth/decline."
   ]
  },
  {
   "cell_type": "code",
   "execution_count": null,
   "metadata": {},
   "outputs": [],
   "source": [
    "# sales growth rate\n",
    "data['Sales_Growth'] = data['Sales'].pct_change() * 100\n",
    "print(data[['Date', 'Sales', 'Sales_Growth']])"
   ]
  },
  {
   "cell_type": "markdown",
   "metadata": {},
   "source": [
    "### 3. Day of the Week\n",
    "**Feature:** Extract the day of the week from the Date column.\n",
    "\n",
    "**Why it’s useful:** Identifies patterns in sales performance by the day of the week (e.g., higher sales on weekends)."
   ]
  },
  {
   "cell_type": "code",
   "execution_count": null,
   "metadata": {},
   "outputs": [],
   "source": [
    "# extract the day of the week from the Date column\n",
    "data['Date'] = pd.to_datetime(data['Date'])\n",
    "data['Day_of_Week'] = data['Date'].dt.day_name()\n",
    "print(data[['Date', 'Day_of_Week']])"
   ]
  },
  {
   "cell_type": "markdown",
   "id": "1aafdfdc",
   "metadata": {},
   "source": [
    "### Summarise sales by day of the week"
   ]
  },
  {
   "cell_type": "code",
   "execution_count": null,
   "id": "5199f6f4",
   "metadata": {},
   "outputs": [],
   "source": [
    "# Summarise sales by day of the week\n",
    "sales_by_weekday = data.groupby('Day_of_Week')['Sales'].sum().reset_index()\n",
    "\n",
    "# Sorting the days of the week for better readability (optional)\n",
    "from pandas.api.types import CategoricalDtype\n",
    "\n",
    "# Define a custom order for the days of the week\n",
    "day_order = CategoricalDtype(\n",
    "    ['Monday', 'Tuesday', 'Wednesday', 'Thursday', 'Friday', 'Saturday', 'Sunday'], \n",
    "    ordered=True\n",
    ")\n",
    "\n",
    "# Apply the custom order and sort\n",
    "sales_by_weekday['Day_of_Week'] = sales_by_weekday['Day_of_Week'].astype(day_order)\n",
    "sales_by_weekday = sales_by_weekday.sort_values('Day_of_Week')\n",
    "\n",
    "# Display the result\n",
    "print(sales_by_weekday)"
   ]
  },
  {
   "cell_type": "markdown",
   "metadata": {},
   "source": [
    "### 4. Cost-to-Sales Ratio\n",
    "\n",
    "**Feature:** Calculate the ratio of cost to sales for each transaction.\n",
    "\n",
    "**Why it’s useful:** Measures operational efficiency and profitability."
   ]
  },
  {
   "cell_type": "code",
   "execution_count": null,
   "metadata": {},
   "outputs": [],
   "source": [
    "# cost-to-sales ratio\n",
    "data['Cost_to_Sales_Ratio'] = data['Cost'] / data['Sales']\n",
    "print(data[['Sales', 'Cost', 'Cost_to_Sales_Ratio']])"
   ]
  },
  {
   "cell_type": "markdown",
   "id": "f7714d61",
   "metadata": {},
   "source": [
    "#### Cost-to-Sales Ratio by Region"
   ]
  },
  {
   "cell_type": "code",
   "execution_count": null,
   "id": "068df5ac",
   "metadata": {},
   "outputs": [],
   "source": [
    "# Calculate the cost-to-sales ratio for each transaction\n",
    "data['Cost_to_Sales_Ratio'] = data['Cost'] / data['Sales']\n",
    "\n",
    "# Calculate the average cost-to-sales ratio for each region\n",
    "cost_ratio_by_region = data.groupby('Region')['Cost_to_Sales_Ratio'].mean().reset_index()\n",
    "\n",
    "# Display the result\n",
    "print(cost_ratio_by_region)"
   ]
  },
  {
   "cell_type": "markdown",
   "metadata": {},
   "source": [
    "### 5. Cumulative Sales\n",
    "\n",
    "**Feature:** Calculate the running total of sales over time.\n",
    "\n",
    "**Why it’s useful:** Tracks overall performance and growth trends."
   ]
  },
  {
   "cell_type": "code",
   "execution_count": null,
   "metadata": {},
   "outputs": [],
   "source": [
    "# total sales over time\n",
    "data['Cumulative_Sales'] = data['Sales'].cumsum()\n",
    "print(data[['Date', 'Sales', 'Cumulative_Sales']])"
   ]
  },
  {
   "cell_type": "markdown",
   "metadata": {},
   "source": [
    "### 6. Discounts (Hypothetical)\n",
    "\n",
    "**Feature:** Add a hypothetical discount column and calculate net sales.\n",
    "\n",
    "**Why it’s useful:** Helps simulate real-world scenarios for understanding the impact of discounts."
   ]
  },
  {
   "cell_type": "code",
   "execution_count": null,
   "metadata": {},
   "outputs": [],
   "source": [
    "# add hypothetical discount column and calculate net sales\n",
    "data['Discount'] = data['Sales'] * 0.1  # Assume a 10% discount\n",
    "data['Net_Sales'] = data['Sales'] - data['Discount']\n",
    "print(data[['Sales', 'Discount', 'Net_Sales']])"
   ]
  },
  {
   "cell_type": "markdown",
   "metadata": {},
   "source": [
    "### 7. Sales per Product\n",
    "\n",
    "**Feature:** Calculate total sales for each product.\n",
    "\n",
    "**Why it’s useful:** Identifies the most and least popular products."
   ]
  },
  {
   "cell_type": "code",
   "execution_count": null,
   "metadata": {},
   "outputs": [],
   "source": [
    "# total sales for each product\n",
    "sales_by_product = data.groupby('Product')['Sales'].sum().reset_index()\n",
    "print(sales_by_product)"
   ]
  },
  {
   "cell_type": "markdown",
   "id": "f98b2468",
   "metadata": {},
   "source": [
    "#### Identifying the Best-Selling Products by Region"
   ]
  },
  {
   "cell_type": "code",
   "execution_count": null,
   "id": "bbbf04d1",
   "metadata": {},
   "outputs": [],
   "source": [
    "# Identifying the Best-Selling Products by Region\n",
    "# Calculate total sales for each product in each region\n",
    "sales_by_product_region = data.groupby(['Region', 'Product'])['Sales'].sum().reset_index()\n",
    "\n",
    "# Sort the sales within each region to find the best-selling product\n",
    "best_selling_products_by_region = sales_by_product_region.sort_values(\n",
    "    ['Region', 'Sales'], ascending=[True, False]\n",
    ").groupby('Region').first().reset_index()\n",
    "\n",
    "# Display the result\n",
    "print(best_selling_products_by_region)\n"
   ]
  }
 ],
 "metadata": {
  "kernelspec": {
   "display_name": ".venv",
   "language": "python",
   "name": "python3"
  },
  "language_info": {
   "codemirror_mode": {
    "name": "ipython",
    "version": 3
   },
   "file_extension": ".py",
   "mimetype": "text/x-python",
   "name": "python",
   "nbconvert_exporter": "python",
   "pygments_lexer": "ipython3",
   "version": "3.11.4"
  }
 },
 "nbformat": 4,
 "nbformat_minor": 5
}
