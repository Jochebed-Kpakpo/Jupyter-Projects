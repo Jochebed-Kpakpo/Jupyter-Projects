{
 "cells": [
  {
   "cell_type": "markdown",
   "id": "cf534205",
   "metadata": {},
   "source": [
    "# Advanced Data Manipulation Activity\n",
    "In this activity, you will use Pandas to clean and transform data by handling missing values, grouping data for aggregation, and applying transformations to numeric columns."
   ]
  },
  {
   "cell_type": "markdown",
   "id": "df29c9c3",
   "metadata": {},
   "source": [
    "## Select Kernel\n",
    "Click on the kernel dropdown (right upper corner) and choose the virtual environment you activated (e.g., .venv)."
   ]
  },
  {
   "cell_type": "markdown",
   "id": "9ba67281",
   "metadata": {},
   "source": [
    "## Data Loading"
   ]
  },
  {
   "cell_type": "code",
   "execution_count": null,
   "id": "d11f47d6",
   "metadata": {},
   "outputs": [],
   "source": [
    "import pandas as pd\n",
    "\n",
    "# Load the CSV file\n",
    "df = pd.read_csv('../data/sample_data.csv')\n",
    "\n",
    "# Display the initial data\n",
    "print('Original Data:')\n",
    "df"
   ]
  },
  {
   "cell_type": "markdown",
   "id": "c109206e",
   "metadata": {},
   "source": [
    "## Data Cleaning - Handling Missing Values\n",
    "Identify and handle missing values in the dataset."
   ]
  },
  {
   "cell_type": "code",
   "execution_count": null,
   "id": "313a0bec",
   "metadata": {},
   "outputs": [],
   "source": [
    "# Check for missing values\n",
    "print('Missing Values:')\n",
    "df.isnull().sum()\n",
    "\n",
    "# Fill missing values in 'age' with the average age\n",
    "df['age'] = df['age'].fillna(df['age'].mean())\n",
    "print('Data after handling missing values:')\n",
    "df"
   ]
  },
  {
   "cell_type": "markdown",
   "id": "d54bfcb3",
   "metadata": {},
   "source": [
    "## Data Aggregation - Grouping by Department\n",
    "Group the data by 'department' and calculate average salary for each department."
   ]
  },
  {
   "cell_type": "code",
   "execution_count": null,
   "id": "b01f1271",
   "metadata": {},
   "outputs": [],
   "source": [
    "# Group by 'department' and calculate average salary\n",
    "department_summary = df.groupby('department')['salary'].mean().reset_index()\n",
    "print('Average Salary by Department:')\n",
    "department_summary"
   ]
  },
  {
   "cell_type": "markdown",
   "id": "c9e945d5",
   "metadata": {},
   "source": [
    "## Data Transformation - Standardizing Salary\n",
    "Standardize the 'salary' column to have a mean of 0 and standard deviation of 1."
   ]
  },
  {
   "cell_type": "code",
   "execution_count": null,
   "id": "5b8dd01f",
   "metadata": {},
   "outputs": [],
   "source": [
    "# Standardize the 'salary' column\n",
    "df['salary_standardized'] = (df['salary'] - df['salary'].mean()) / df['salary'].std()\n",
    "print('Data after standardizing salary:')\n",
    "df"
   ]
  }
 ],
 "metadata": {
  "kernelspec": {
   "display_name": ".venv",
   "language": "python",
   "name": "python3"
  },
  "language_info": {
   "codemirror_mode": {
    "name": "ipython",
    "version": 3
   },
   "file_extension": ".py",
   "mimetype": "text/x-python",
   "name": "python",
   "nbconvert_exporter": "python",
   "pygments_lexer": "ipython3",
   "version": "3.11.4"
  }
 },
 "nbformat": 4,
 "nbformat_minor": 5
}
