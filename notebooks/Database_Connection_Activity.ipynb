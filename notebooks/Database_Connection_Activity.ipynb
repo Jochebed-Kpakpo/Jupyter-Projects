{
 "cells": [
  {
   "cell_type": "markdown",
   "id": "94b6a24c",
   "metadata": {},
   "source": [
    "# Database Connection Activity\n",
    "In this activity, you will learn how to connect to a SQLite database and import data into a Pandas DataFrame using SQL queries."
   ]
  },
  {
   "cell_type": "markdown",
   "id": "0ca5936e",
   "metadata": {},
   "source": [
    "## Select Kernel\n",
    "Click on the kernel dropdown (right upper corner) and choose the virtual environment you activated (e.g., .venv)."
   ]
  },
  {
   "cell_type": "code",
   "execution_count": 1,
   "id": "b5f50626",
   "metadata": {},
   "outputs": [
    {
     "name": "stdout",
     "output_type": "stream",
     "text": [
      "Data from employees table:\n"
     ]
    },
    {
     "data": {
      "text/html": [
       "<div>\n",
       "<style scoped>\n",
       "    .dataframe tbody tr th:only-of-type {\n",
       "        vertical-align: middle;\n",
       "    }\n",
       "\n",
       "    .dataframe tbody tr th {\n",
       "        vertical-align: top;\n",
       "    }\n",
       "\n",
       "    .dataframe thead th {\n",
       "        text-align: right;\n",
       "    }\n",
       "</style>\n",
       "<table border=\"1\" class=\"dataframe\">\n",
       "  <thead>\n",
       "    <tr style=\"text-align: right;\">\n",
       "      <th></th>\n",
       "      <th>id</th>\n",
       "      <th>name</th>\n",
       "      <th>age</th>\n",
       "      <th>department</th>\n",
       "      <th>salary</th>\n",
       "    </tr>\n",
       "  </thead>\n",
       "  <tbody>\n",
       "    <tr>\n",
       "      <th>0</th>\n",
       "      <td>1</td>\n",
       "      <td>Alice</td>\n",
       "      <td>28</td>\n",
       "      <td>Engineering</td>\n",
       "      <td>75000.0</td>\n",
       "    </tr>\n",
       "    <tr>\n",
       "      <th>1</th>\n",
       "      <td>2</td>\n",
       "      <td>Bob</td>\n",
       "      <td>34</td>\n",
       "      <td>Sales</td>\n",
       "      <td>64000.0</td>\n",
       "    </tr>\n",
       "    <tr>\n",
       "      <th>2</th>\n",
       "      <td>3</td>\n",
       "      <td>Charlie</td>\n",
       "      <td>45</td>\n",
       "      <td>HR</td>\n",
       "      <td>72000.0</td>\n",
       "    </tr>\n",
       "    <tr>\n",
       "      <th>3</th>\n",
       "      <td>4</td>\n",
       "      <td>David</td>\n",
       "      <td>30</td>\n",
       "      <td>Engineering</td>\n",
       "      <td>69000.0</td>\n",
       "    </tr>\n",
       "    <tr>\n",
       "      <th>4</th>\n",
       "      <td>5</td>\n",
       "      <td>Eve</td>\n",
       "      <td>29</td>\n",
       "      <td>Marketing</td>\n",
       "      <td>60000.0</td>\n",
       "    </tr>\n",
       "  </tbody>\n",
       "</table>\n",
       "</div>"
      ],
      "text/plain": [
       "   id     name  age   department   salary\n",
       "0   1    Alice   28  Engineering  75000.0\n",
       "1   2      Bob   34        Sales  64000.0\n",
       "2   3  Charlie   45           HR  72000.0\n",
       "3   4    David   30  Engineering  69000.0\n",
       "4   5      Eve   29    Marketing  60000.0"
      ]
     },
     "execution_count": 1,
     "metadata": {},
     "output_type": "execute_result"
    }
   ],
   "source": [
    "import pandas as pd\n",
    "import sqlite3\n",
    "\n",
    "# Connect to the SQLite database\n",
    "conn = sqlite3.connect('../database/sample_database.db')\n",
    "\n",
    "# Write a basic SQL query to retrieve data from the 'employees' table\n",
    "query = 'SELECT * FROM employees'\n",
    "\n",
    "# Load data into a DataFrame\n",
    "df = pd.read_sql_query(query, conn)\n",
    "\n",
    "# Close the database connection\n",
    "conn.close()\n",
    "\n",
    "print('Data from employees table:')\n",
    "df"
   ]
  }
 ],
 "metadata": {
  "kernelspec": {
   "display_name": ".venv",
   "language": "python",
   "name": "python3"
  },
  "language_info": {
   "codemirror_mode": {
    "name": "ipython",
    "version": 3
   },
   "file_extension": ".py",
   "mimetype": "text/x-python",
   "name": "python",
   "nbconvert_exporter": "python",
   "pygments_lexer": "ipython3",
   "version": "3.12.8"
  }
 },
 "nbformat": 4,
 "nbformat_minor": 5
}
