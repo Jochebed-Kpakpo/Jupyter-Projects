{
 "cells": [
  {
   "cell_type": "markdown",
   "metadata": {},
   "source": [
    "# Exploring and Preparing Data for Analysis\n",
    "\n",
    "In this notebook, we’ll guide you through the fundamental steps of working with a dataset.\n",
    "\n",
    "By the end of this notebook, you will be able to perform basic exploratory data analysis (EDA) to uncover patterns and insights.\n",
    "\n",
    "The dataset we’ll be working with represents sales data from an online retail store."
   ]
  },
  {
   "cell_type": "markdown",
   "metadata": {},
   "source": [
    "## Load the Dataset"
   ]
  },
  {
   "cell_type": "code",
   "execution_count": 2,
   "metadata": {},
   "outputs": [],
   "source": [
    "import pandas as pd\n",
    "data = pd.read_csv('../data/sales_data.csv')  # Example dataset"
   ]
  },
  {
   "cell_type": "markdown",
   "metadata": {},
   "source": [
    "## Preview the Data with .head()\n",
    "Let’s preview the first few rows with `.head()`. \n",
    "\n",
    "In Pandas it defaults to displaying the first 5 rows of the dataset.\n",
    "\n",
    "However, you can specify a different number of rows by passing an integer as an argument to `.head()`.\n",
    "\n",
    "For example: `data.head(10)` will display the first 10 rows.\n"
   ]
  },
  {
   "cell_type": "code",
   "execution_count": 3,
   "metadata": {},
   "outputs": [
    {
     "name": "stdout",
     "output_type": "stream",
     "text": [
      "   Sales Region Product        Date    Cost\n",
      "0    250  North       A  2024-01-01  216.31\n",
      "1    400   East       B  2024-01-02  348.15\n",
      "2    150   West       C  2024-01-03  123.00\n",
      "3    350  South       D  2024-01-04  296.90\n",
      "4    500  North       A  2024-01-05  378.85\n"
     ]
    }
   ],
   "source": [
    "# preview the data\n",
    "print(data.head())"
   ]
  },
  {
   "cell_type": "markdown",
   "metadata": {},
   "source": [
    "## Inspect the Structure with .info()\n",
    "We inspect the structure of the dataset with `.info()`.\n",
    "\n",
    "There are no missing values in any columns (Non-Null Count matches total rows).\n",
    "`Sales` is an integer type (`int64`), `Cost` is a float type (`float64`), while `Region`, `Product`, and `Date` are object types.\n",
    "\n",
    "Pandas treats any non-numeric data as an object by default.\n"
   ]
  },
  {
   "cell_type": "code",
   "execution_count": 4,
   "metadata": {},
   "outputs": [
    {
     "name": "stdout",
     "output_type": "stream",
     "text": [
      "<class 'pandas.core.frame.DataFrame'>\n",
      "RangeIndex: 10 entries, 0 to 9\n",
      "Data columns (total 5 columns):\n",
      " #   Column   Non-Null Count  Dtype  \n",
      "---  ------   --------------  -----  \n",
      " 0   Sales    10 non-null     int64  \n",
      " 1   Region   10 non-null     object \n",
      " 2   Product  10 non-null     object \n",
      " 3   Date     10 non-null     object \n",
      " 4   Cost     10 non-null     float64\n",
      "dtypes: float64(1), int64(1), object(3)\n",
      "memory usage: 532.0+ bytes\n",
      "None\n"
     ]
    }
   ],
   "source": [
    "# inspect the structure with info()\n",
    "print(data.info())"
   ]
  },
  {
   "cell_type": "markdown",
   "metadata": {},
   "source": [
    "If you know the Region column is meant to be text, you can explicitly convert it to a string data type using:"
   ]
  },
  {
   "cell_type": "code",
   "execution_count": 5,
   "metadata": {},
   "outputs": [
    {
     "name": "stdout",
     "output_type": "stream",
     "text": [
      "<class 'pandas.core.frame.DataFrame'>\n",
      "RangeIndex: 10 entries, 0 to 9\n",
      "Data columns (total 5 columns):\n",
      " #   Column   Non-Null Count  Dtype  \n",
      "---  ------   --------------  -----  \n",
      " 0   Sales    10 non-null     int64  \n",
      " 1   Region   10 non-null     string \n",
      " 2   Product  10 non-null     object \n",
      " 3   Date     10 non-null     object \n",
      " 4   Cost     10 non-null     float64\n",
      "dtypes: float64(1), int64(1), object(2), string(1)\n",
      "memory usage: 532.0+ bytes\n",
      "None\n"
     ]
    }
   ],
   "source": [
    "# convert Region to string\n",
    "data['Region'] = data['Region'].astype('string')\n",
    "print(data.info())"
   ]
  },
  {
   "cell_type": "markdown",
   "metadata": {},
   "source": [
    "## Generate Statistics with .describe()\n",
    "\n",
    "These statistics help us identify outliers and understand data ranges.\n",
    "\n",
    "The `count` value represents the number of non-missing (non-NaN) entries in each column.\n",
    "- `Count` for `Sales` is 10, because there are no non-missing values.\n",
    "- The `maximum sales` value (600) is significantly higher than the minimum value (50), suggesting possible outliers.\n",
    "- The `mean` (325) is close to the `median` (50th percentile = 325), indicating a relatively balanced distribution for this small dataset.\n",
    "\n",
    "Remember, an unbalanced distribution skews results: the `mean` may not reflect typical values, `outliers` can distort analysis, and machine learning models might struggle. \n",
    "\n",
    "Further analysis might confirm whether the high (600) or low (50) values are genuine or anomalies.\n"
   ]
  },
  {
   "cell_type": "code",
   "execution_count": null,
   "metadata": {},
   "outputs": [
    {
     "data": {
      "text/html": [
       "<div>\n",
       "<style scoped>\n",
       "    .dataframe tbody tr th:only-of-type {\n",
       "        vertical-align: middle;\n",
       "    }\n",
       "\n",
       "    .dataframe tbody tr th {\n",
       "        vertical-align: top;\n",
       "    }\n",
       "\n",
       "    .dataframe thead th {\n",
       "        text-align: right;\n",
       "    }\n",
       "</style>\n",
       "<table border=\"1\" class=\"dataframe\">\n",
       "  <thead>\n",
       "    <tr style=\"text-align: right;\">\n",
       "      <th></th>\n",
       "      <th>Sales</th>\n",
       "      <th>Cost</th>\n",
       "    </tr>\n",
       "  </thead>\n",
       "  <tbody>\n",
       "    <tr>\n",
       "      <th>count</th>\n",
       "      <td>10.000000</td>\n",
       "      <td>10.000000</td>\n",
       "    </tr>\n",
       "    <tr>\n",
       "      <th>mean</th>\n",
       "      <td>325.000000</td>\n",
       "      <td>256.776000</td>\n",
       "    </tr>\n",
       "    <tr>\n",
       "      <th>std</th>\n",
       "      <td>168.737139</td>\n",
       "      <td>122.868683</td>\n",
       "    </tr>\n",
       "    <tr>\n",
       "      <th>min</th>\n",
       "      <td>50.000000</td>\n",
       "      <td>38.460000</td>\n",
       "    </tr>\n",
       "    <tr>\n",
       "      <th>25%</th>\n",
       "      <td>212.500000</td>\n",
       "      <td>183.415000</td>\n",
       "    </tr>\n",
       "    <tr>\n",
       "      <th>50%</th>\n",
       "      <td>325.000000</td>\n",
       "      <td>257.920000</td>\n",
       "    </tr>\n",
       "    <tr>\n",
       "      <th>75%</th>\n",
       "      <td>437.500000</td>\n",
       "      <td>359.392500</td>\n",
       "    </tr>\n",
       "    <tr>\n",
       "      <th>max</th>\n",
       "      <td>600.000000</td>\n",
       "      <td>411.560000</td>\n",
       "    </tr>\n",
       "  </tbody>\n",
       "</table>\n",
       "</div>"
      ],
      "text/plain": [
       "            Sales        Cost\n",
       "count   10.000000   10.000000\n",
       "mean   325.000000  256.776000\n",
       "std    168.737139  122.868683\n",
       "min     50.000000   38.460000\n",
       "25%    212.500000  183.415000\n",
       "50%    325.000000  257.920000\n",
       "75%    437.500000  359.392500\n",
       "max    600.000000  411.560000"
      ]
     },
     "execution_count": 16,
     "metadata": {},
     "output_type": "execute_result"
    }
   ],
   "source": [
    "# generate statistics\n",
    "#data.describe(include='all')\n",
    "#data['Sales'].describe()\n",
    "data.describe()\n",
    "\n"
   ]
  },
  {
   "cell_type": "markdown",
   "metadata": {},
   "source": [
    "## Extracting the Month from a Date Column\n",
    "Let’s start by extracting the month from the `Date` column. \n",
    "\n",
    "This helps us identify trends based on the time of year. \n",
    "\n",
    "For example, do certain months see higher sales?\n"
   ]
  },
  {
   "cell_type": "code",
   "execution_count": 18,
   "metadata": {},
   "outputs": [
    {
     "name": "stdout",
     "output_type": "stream",
     "text": [
      "        Date Month\n",
      "0 2024-01-01    01\n",
      "1 2024-01-02    01\n",
      "2 2024-01-03    01\n",
      "3 2024-01-04    01\n",
      "4 2024-01-05    01\n",
      "5 2024-01-06    01\n",
      "6 2024-01-07    01\n",
      "7 2024-01-08    01\n",
      "8 2024-01-09    01\n",
      "9 2024-01-10    01\n"
     ]
    }
   ],
   "source": [
    "# Convert Date column to datetime\n",
    "data['Date'] = pd.to_datetime(data['Date'], errors='coerce')\n",
    "\n",
    "# Extract the month\n",
    "#data['Month'] = data['Date'].dt.month_name()\n",
    "data['Month'] = data['Date'].dt.strftime('%m')\n",
    "\n",
    "print(data[['Date', 'Month']])"
   ]
  },
  {
   "cell_type": "markdown",
   "metadata": {},
   "source": [
    "## Normalising Sales Data\n",
    "Next, let’s normalise the `Sales` data using Min-Max scaling. \n",
    "\n",
    "Normalisation is useful when we want to compare columns with different ranges or prepare data for machine-learning models.\n",
    "\n",
    "This transforms Sales to a range between 0 and 1, where:\n",
    "- 0 represents the minimum sales value.\n",
    "- 1 represents the maximum sales value.\n",
    "- All other sales values are scaled proportionally between 0 and 1.\n",
    "\n",
    "It makes data easier to compare or use in machine learning models, especially when ranges are vastly different.\n"
   ]
  },
  {
   "cell_type": "code",
   "execution_count": 19,
   "metadata": {},
   "outputs": [
    {
     "name": "stdout",
     "output_type": "stream",
     "text": [
      "   Sales  Normalised_Sales\n",
      "0    250          0.363636\n",
      "1    400          0.636364\n",
      "2    150          0.181818\n",
      "3    350          0.545455\n",
      "4    500          0.818182\n",
      "5    300          0.454545\n",
      "6    200          0.272727\n",
      "7    450          0.727273\n",
      "8    600          1.000000\n",
      "9     50          0.000000\n"
     ]
    }
   ],
   "source": [
    "# Normalise the Sales column\n",
    "data['Normalised_Sales'] = (data['Sales'] - data['Sales'].min()) / (data['Sales'].max() - data['Sales'].min())\n",
    "print(data[['Sales', 'Normalised_Sales']])\n"
   ]
  },
  {
   "cell_type": "markdown",
   "metadata": {},
   "source": [
    "## Calculate Profit\n",
    "Let’s calculate Profit for each transaction using the formula:\n",
    "\n",
    "Profit = Sales − Cost"
   ]
  },
  {
   "cell_type": "code",
   "execution_count": 20,
   "metadata": {},
   "outputs": [
    {
     "name": "stdout",
     "output_type": "stream",
     "text": [
      "   Sales    Cost  Profit\n",
      "0    250  216.31   33.69\n",
      "1    400  348.15   51.85\n",
      "2    150  123.00   27.00\n",
      "3    350  296.90   53.10\n",
      "4    500  378.85  121.15\n",
      "5    300  218.94   81.06\n",
      "6    200  172.45   27.55\n",
      "7    450  363.14   86.86\n",
      "8    600  411.56  188.44\n",
      "9     50   38.46   11.54\n"
     ]
    }
   ],
   "source": [
    "# Calculate Profit\n",
    "data['Profit'] = data['Sales'] - data['Cost']\n",
    "print(data[['Sales', 'Cost', 'Profit']])\n"
   ]
  },
  {
   "cell_type": "markdown",
   "metadata": {},
   "source": [
    "## Categorize Sales into Tiers\n",
    "Now, let’s categorise sales into 'High' and 'Low' tiers. \n",
    "\n",
    "We’ll use a threshold of 300 for this activity:\n",
    "- Sales > 300 → High\n",
    "- Sales ≤ 300 → Low"
   ]
  },
  {
   "cell_type": "code",
   "execution_count": 21,
   "metadata": {},
   "outputs": [
    {
     "name": "stdout",
     "output_type": "stream",
     "text": [
      "   Sales    Cost Region Sales_Tier\n",
      "0    250  216.31  North        Low\n",
      "1    400  348.15   East       High\n",
      "2    150  123.00   West        Low\n",
      "3    350  296.90  South       High\n",
      "4    500  378.85  North       High\n",
      "5    300  218.94   East        Low\n",
      "6    200  172.45   West        Low\n",
      "7    450  363.14  South       High\n",
      "8    600  411.56  North       High\n",
      "9     50   38.46   East        Low\n",
      "   Sales Region Product       Date    Cost Month  Normalised_Sales  Profit  \\\n",
      "0    250  North       A 2024-01-01  216.31    01          0.363636   33.69   \n",
      "1    400   East       B 2024-01-02  348.15    01          0.636364   51.85   \n",
      "2    150   West       C 2024-01-03  123.00    01          0.181818   27.00   \n",
      "3    350  South       D 2024-01-04  296.90    01          0.545455   53.10   \n",
      "4    500  North       A 2024-01-05  378.85    01          0.818182  121.15   \n",
      "5    300   East       B 2024-01-06  218.94    01          0.454545   81.06   \n",
      "6    200   West       C 2024-01-07  172.45    01          0.272727   27.55   \n",
      "7    450  South       D 2024-01-08  363.14    01          0.727273   86.86   \n",
      "8    600  North       A 2024-01-09  411.56    01          1.000000  188.44   \n",
      "9     50   East       B 2024-01-10   38.46    01          0.000000   11.54   \n",
      "\n",
      "  Sales_Tier  \n",
      "0        Low  \n",
      "1       High  \n",
      "2        Low  \n",
      "3       High  \n",
      "4       High  \n",
      "5        Low  \n",
      "6        Low  \n",
      "7       High  \n",
      "8       High  \n",
      "9        Low  \n"
     ]
    }
   ],
   "source": [
    "# Categorize Sales into Tiers\n",
    "data['Sales_Tier'] = ['High' if sale > 300 else 'Low' for sale in data['Sales']]\n",
    "print(data[['Sales', 'Cost', 'Region', 'Sales_Tier']])\n",
    "print (data)"
   ]
  },
  {
   "cell_type": "markdown",
   "metadata": {},
   "source": [
    "## Histogram for Distribution Analysis\n",
    "A histogram shows how Sales values are distributed. \n",
    "\n",
    "It helps answer questions like:\n",
    "\n",
    "- Are most sales concentrated in a specific range?\n",
    "- Are there many low-value or high-value sales?\n",
    "- Are there outliers?"
   ]
  },
  {
   "cell_type": "code",
   "execution_count": 31,
   "metadata": {},
   "outputs": [
    {
     "data": {
      "image/png": "[encoded data removed]",
      "text/plain": [
       "<Figure size 640x480 with 1 Axes>"
      ]
     },
     "metadata": {},
     "output_type": "display_data"
    }
   ],
   "source": [
    "import matplotlib.pyplot as plt\n",
    "\n",
    "# Plotting a histogram\n",
    "plt.hist(data['Sales'], bins=20, color='blue', alpha=0.7)\n",
    "plt.title('Sales Distribution')\n",
    "plt.xlabel('Sales')\n",
    "plt.ylabel('Frequency')\n",
    "plt.show()"
   ]
  },
  {
   "cell_type": "markdown",
   "metadata": {},
   "source": [
    "### Bins\n",
    "In the context of a histogram, bin refers to the intervals into which data is grouped to create the histogram. The number of bins determines how the range of data is divided.\n",
    "\n",
    "If your dataset ranges from 0 to 600 and you set bins=20, the data is divided into 20 equal intervals of size 30.\n",
    "\n",
    "Bin Width = 600/20 = 30\n",
    "\n",
    "The bins will be:\n",
    "- `Bin 1:` 0–30\n",
    "- `Bin 2:` 30–60\n",
    "- `Bin 3`: 60–90\n",
    "- ... and so on, up to `Bin 20:` 570–600.\n",
    "\n",
    "**Why Does the Number of Bins Matter?**\n",
    "- `Too Few Bins:` Oversimplifies data, hiding patterns.\n",
    "- `Too Many Bins:` Overcomplicates the histogram, making it hard to interpret.\n",
    "- `Balanced Bins:` Provides enough detail to reveal patterns without overwhelming.\n"
   ]
  },
  {
   "cell_type": "markdown",
   "metadata": {},
   "source": [
    "## Scatter Plot for Relationships\n",
    "A scatter plot visualizes the relationship between two variables. In this case, Sales and Cost. \n",
    "\n",
    "It helps answer:\n",
    "\n",
    "- Does higher Sales always lead to higher Costs?\n",
    "- Are there transactions where Sales are high but Costs are low (indicating high efficiency)?\n",
    "- Are there outliers?"
   ]
  },
  {
   "cell_type": "code",
   "execution_count": 23,
   "metadata": {},
   "outputs": [
    {
     "data": {
      "image/png": "[encoded data removed]",
      "text/plain": [
       "<Figure size 640x480 with 1 Axes>"
      ]
     },
     "metadata": {},
     "output_type": "display_data"
    }
   ],
   "source": [
    "# Scatter plot comparing Sales and Cost\n",
    "plt.scatter(data['Sales'], data['Cost'], alpha=0.6, color='green')\n",
    "plt.title('Sales vs Cost')\n",
    "plt.xlabel('Sales')\n",
    "plt.ylabel('Cost')\n",
    "plt.show()"
   ]
  },
  {
   "cell_type": "markdown",
   "metadata": {},
   "source": [
    "## Pairplot for Variable Correlations (using Seaborn)\n",
    "A pairplot is a grid of scatter plots that shows relationships between multiple numerical variables (e.g., Sales, Cost). \n",
    "\n",
    "It helps:\n",
    "- Identify correlated variables.\n",
    "- Highlight unusual patterns or clusters."
   ]
  },
  {
   "cell_type": "code",
   "execution_count": 24,
   "metadata": {},
   "outputs": [
    {
     "data": {
      "image/png": "[encoded data removed]",
      "text/plain": [
       "<Figure size 500x500 with 6 Axes>"
      ]
     },
     "metadata": {},
     "output_type": "display_data"
    }
   ],
   "source": [
    "import seaborn as sns\n",
    "\n",
    "# Creating a pairplot for numerical columns\n",
    "sns.pairplot(data[['Sales', 'Cost']])\n",
    "plt.show()"
   ]
  },
  {
   "cell_type": "markdown",
   "metadata": {},
   "source": [
    "**What You See:**\n",
    "- **Diagonal (Histograms):** These show the distribution of individual variables:\n",
    "    - `Sales:` The histogram reveals the range and frequency of sales values.\n",
    "    - `Cost:` The histogram shows the distribution of costs.\n",
    "- **Off-Diagonal (Scatter Plots):** These show how Sales and Cost relate:\n",
    "    - If the points align closely in an upward or downward trend, it indicates a correlation.\n",
    "    - Patterns or clusters may suggest groups in your data or unusual behaviour.\n"
   ]
  }
 ],
 "metadata": {
  "kernelspec": {
   "display_name": ".venv",
   "language": "python",
   "name": "python3"
  },
  "language_info": {
   "codemirror_mode": {
    "name": "ipython",
    "version": 3
   },
   "file_extension": ".py",
   "mimetype": "text/x-python",
   "name": "python",
   "nbconvert_exporter": "python",
   "pygments_lexer": "ipython3",
   "version": "3.12.8"
  }
 },
 "nbformat": 4,
 "nbformat_minor": 2
}
