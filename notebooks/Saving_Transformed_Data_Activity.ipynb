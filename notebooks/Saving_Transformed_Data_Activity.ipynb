{
 "cells": [
  {
   "cell_type": "markdown",
   "id": "fbff26b4",
   "metadata": {},
   "source": [
    "# Saving Transformed Data\n",
    "In this notebook, we'll explore various ways to save our transformed DataFrame after cleaning and processing."
   ]
  },
  {
   "cell_type": "code",
   "execution_count": 1,
   "id": "55886bc5",
   "metadata": {},
   "outputs": [
    {
     "name": "stdout",
     "output_type": "stream",
     "text": [
      "Transformed DataFrame:\n"
     ]
    },
    {
     "data": {
      "text/html": [
       "<div>\n",
       "<style scoped>\n",
       "    .dataframe tbody tr th:only-of-type {\n",
       "        vertical-align: middle;\n",
       "    }\n",
       "\n",
       "    .dataframe tbody tr th {\n",
       "        vertical-align: top;\n",
       "    }\n",
       "\n",
       "    .dataframe thead th {\n",
       "        text-align: right;\n",
       "    }\n",
       "</style>\n",
       "<table border=\"1\" class=\"dataframe\">\n",
       "  <thead>\n",
       "    <tr style=\"text-align: right;\">\n",
       "      <th></th>\n",
       "      <th>id</th>\n",
       "      <th>name</th>\n",
       "      <th>age</th>\n",
       "      <th>department</th>\n",
       "      <th>salary</th>\n",
       "    </tr>\n",
       "  </thead>\n",
       "  <tbody>\n",
       "    <tr>\n",
       "      <th>0</th>\n",
       "      <td>1</td>\n",
       "      <td>Alice</td>\n",
       "      <td>28</td>\n",
       "      <td>Engineering</td>\n",
       "      <td>75000</td>\n",
       "    </tr>\n",
       "    <tr>\n",
       "      <th>1</th>\n",
       "      <td>2</td>\n",
       "      <td>Bob</td>\n",
       "      <td>29</td>\n",
       "      <td>Sales</td>\n",
       "      <td>64000</td>\n",
       "    </tr>\n",
       "    <tr>\n",
       "      <th>2</th>\n",
       "      <td>3</td>\n",
       "      <td>Charlie</td>\n",
       "      <td>34</td>\n",
       "      <td>HR</td>\n",
       "      <td>72000</td>\n",
       "    </tr>\n",
       "    <tr>\n",
       "      <th>3</th>\n",
       "      <td>4</td>\n",
       "      <td>David</td>\n",
       "      <td>30</td>\n",
       "      <td>Engineering</td>\n",
       "      <td>69000</td>\n",
       "    </tr>\n",
       "    <tr>\n",
       "      <th>4</th>\n",
       "      <td>5</td>\n",
       "      <td>Eve</td>\n",
       "      <td>27</td>\n",
       "      <td>Marketing</td>\n",
       "      <td>60000</td>\n",
       "    </tr>\n",
       "  </tbody>\n",
       "</table>\n",
       "</div>"
      ],
      "text/plain": [
       "   id     name  age   department  salary\n",
       "0   1    Alice   28  Engineering   75000\n",
       "1   2      Bob   29        Sales   64000\n",
       "2   3  Charlie   34           HR   72000\n",
       "3   4    David   30  Engineering   69000\n",
       "4   5      Eve   27    Marketing   60000"
      ]
     },
     "execution_count": 1,
     "metadata": {},
     "output_type": "execute_result"
    }
   ],
   "source": [
    "import pandas as pd\n",
    "\n",
    "# Example: Load sample data\n",
    "data = {\n",
    "    'id': [1, 2, 3, 4, 5],\n",
    "    'name': ['Alice', 'Bob', 'Charlie', 'David', 'Eve'],\n",
    "    'age': [28, 29, 34, 30, 27],\n",
    "    'department': ['Engineering', 'Sales', 'HR', 'Engineering', 'Marketing'],\n",
    "    'salary': [75000, 64000, 72000, 69000, 60000]\n",
    "}\n",
    "\n",
    "df = pd.DataFrame(data)\n",
    "\n",
    "# Display the DataFrame\n",
    "print('Transformed DataFrame:')\n",
    "df"
   ]
  },
  {
   "cell_type": "markdown",
   "id": "b60685c2",
   "metadata": {},
   "source": [
    "## 1. Save as a New CSV File"
   ]
  },
  {
   "cell_type": "code",
   "execution_count": 4,
   "id": "43d8a623",
   "metadata": {},
   "outputs": [],
   "source": [
    "# Save the DataFrame to a CSV file\n",
    "df.to_csv('../data/cleaned_data.csv', index=False)\n",
    "\n",
    "# Note: Replace 'path/to/cleaned_data.csv' with the desired file path and name."
   ]
  },
  {
   "cell_type": "markdown",
   "id": "31cdb22e",
   "metadata": {},
   "source": [
    "## 2. Save as an Excel File"
   ]
  },
  {
   "cell_type": "code",
   "execution_count": 6,
   "id": "dd12855c",
   "metadata": {},
   "outputs": [],
   "source": [
    "# Save the DataFrame to an Excel file\n",
    "df.to_excel('../data/cleaned_data.xlsx', index=False)\n",
    "\n",
    "# Note: Replace 'path/to/cleaned_data.xlsx' with the desired file path and name.\n",
    "# Requires the 'openpyxl' library, install it if necessary with: pip install openpyxl"
   ]
  },
  {
   "cell_type": "markdown",
   "id": "9a50e46a",
   "metadata": {},
   "source": [
    "## 3. Save to a Database"
   ]
  },
  {
   "cell_type": "code",
   "execution_count": 12,
   "id": "3b0acc99",
   "metadata": {},
   "outputs": [
    {
     "data": {
      "text/plain": [
       "5"
      ]
     },
     "execution_count": 12,
     "metadata": {},
     "output_type": "execute_result"
    }
   ],
   "source": [
    "from sqlalchemy import create_engine\n",
    "\n",
    "# Create a SQLite engine; adjust for your database type if needed\n",
    "engine = create_engine('sqlite:///../data/database.db')\n",
    "\n",
    "# Save the DataFrame to a SQL table called 'cleaned_data'\n",
    "df.to_sql('cleaned_data', engine, index=False, if_exists='replace')\n",
    "\n",
    "# Note: Replace 'sqlite:///path/to/database.db' with the actual database path and name."
   ]
  },
  {
   "cell_type": "markdown",
   "id": "38d6a17e",
   "metadata": {},
   "source": [
    "## 4. Save as a JSON File"
   ]
  },
  {
   "cell_type": "code",
   "execution_count": 13,
   "id": "31de9627",
   "metadata": {},
   "outputs": [],
   "source": [
    "# Save the DataFrame to a JSON file\n",
    "df.to_json('../data/cleaned_data.json', orient='records')\n",
    "\n",
    "# Note: Replace 'path/to/cleaned_data.json' with the desired file path and name.\n",
    "# Setting 'orient=\"records\"' saves each row as a dictionary, making it easy to read in JSON format."
   ]
  },
  {
   "cell_type": "markdown",
   "id": "bdb7fa0c",
   "metadata": {},
   "source": [
    "### Summary\n",
    "Choose the format that best fits your needs:\n",
    "- **CSV or Excel**: Suitable for individual projects or sharing.\n",
    "- **Database**: Ideal for large projects needing a queryable format.\n",
    "- **JSON**: Useful for hierarchical or structured data storage."
   ]
  }
 ],
 "metadata": {
  "kernelspec": {
   "display_name": ".venv",
   "language": "python",
   "name": "python3"
  },
  "language_info": {
   "codemirror_mode": {
    "name": "ipython",
    "version": 3
   },
   "file_extension": ".py",
   "mimetype": "text/x-python",
   "name": "python",
   "nbconvert_exporter": "python",
   "pygments_lexer": "ipython3",
   "version": "3.12.8"
  }
 },
 "nbformat": 4,
 "nbformat_minor": 5
}
