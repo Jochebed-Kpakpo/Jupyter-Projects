{
 "cells": [
  {
   "cell_type": "markdown",
   "id": "40b42598",
   "metadata": {},
   "source": [
    "# Complex Data Import Activity\n",
    "In this activity, you will import and manipulate JSON data using Pandas, explore hierarchical structures, and learn strategies for flattening nested data."
   ]
  },
  {
   "cell_type": "markdown",
   "id": "7b3f2dea",
   "metadata": {},
   "source": [
    "## Select Kernel\n",
    "Click on the kernel dropdown (right upper corner) and choose the virtual environment you activated (e.g., .venv)."
   ]
  },
  {
   "cell_type": "markdown",
   "id": "69afe75e",
   "metadata": {},
   "source": [
    "## Importing JSON Data"
   ]
  },
  {
   "cell_type": "code",
   "execution_count": null,
   "id": "99d670e1",
   "metadata": {},
   "outputs": [],
   "source": [
    "import pandas as pd\n",
    "\n",
    "# Load JSON data\n",
    "json_data = pd.read_json('../data/example_data.json')\n",
    "print('JSON Data:')\n",
    "json_data"
   ]
  },
  {
   "cell_type": "markdown",
   "id": "a531f6ff",
   "metadata": {},
   "source": [
    "## Flattening Hierarchical Data"
   ]
  },
  {
   "cell_type": "code",
   "execution_count": null,
   "id": "f642121a",
   "metadata": {},
   "outputs": [],
   "source": [
    "# Flattening hierarchical data in 'department' column\n",
    "flattened_data = pd.json_normalize(json_data['employees'])\n",
    "print('Flattened Data:')\n",
    "flattened_data"
   ]
  }
 ],
 "metadata": {
  "kernelspec": {
   "display_name": ".venv",
   "language": "python",
   "name": "python3"
  },
  "language_info": {
   "codemirror_mode": {
    "name": "ipython",
    "version": 3
   },
   "file_extension": ".py",
   "mimetype": "text/x-python",
   "name": "python",
   "nbconvert_exporter": "python",
   "pygments_lexer": "ipython3",
   "version": "3.11.4"
  }
 },
 "nbformat": 4,
 "nbformat_minor": 5
}
