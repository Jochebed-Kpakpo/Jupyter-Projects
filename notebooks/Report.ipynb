{
 "cells": [
  {
   "cell_type": "markdown",
   "metadata": {},
   "source": [
    "# Sales Trends and Insights: A Comprehensive Overview\n",
    "This report delves into the sales data to uncover key patterns and trends across days of the week.\n",
    "\n",
    "Key focus areas include:\n",
    "\n",
    "- Understanding which days of the week generate the most revenue and how to maximise their potential.\n",
    "- Highlighting areas for improvement, such as underperforming days, and proposing strategies to boost efficiency.\n",
    "\n",
    "This report is designed to guide strategic decisions, streamline operations, and foster data-driven growth for sustained success."
   ]
  },
  {
   "cell_type": "markdown",
   "metadata": {},
   "source": [
    "## Task 1 Non-Visual Insights: Analyse regional and weekly sales performance."
   ]
  },
  {
   "cell_type": "markdown",
   "metadata": {},
   "source": [
    "## Load the Dataset"
   ]
  },
  {
   "cell_type": "code",
   "execution_count": null,
   "metadata": {},
   "outputs": [],
   "source": [
    "# Sales trend and insights: A comprehensive review\n",
    "\n",
    "# Load the dataset \n",
    "import pandas as pd\n",
    "data = pd.read_csv('../data/sales_data.csv')  "
   ]
  },
  {
   "cell_type": "markdown",
   "metadata": {},
   "source": [
    "### Task 1.1  Identify the day of the week with the highest sales."
   ]
  },
  {
   "cell_type": "code",
   "execution_count": null,
   "metadata": {},
   "outputs": [],
   "source": [
    "# Task 1.1 Identify the day of the week with the highest sales.\n",
    "# TODO: Add code to identify the day of the week with the highest sales."
   ]
  },
  {
   "cell_type": "markdown",
   "metadata": {},
   "source": [
    "## Task 2: Visualizations Insights:  Create visualisations for sales distribution and weekly trends."
   ]
  },
  {
   "cell_type": "markdown",
   "metadata": {},
   "source": [
    "### Task 2.1 Create a bar chart to visualise the sales trends across the week. What patterns or fluctuations do you notice over the days? How do they align with the strongest day identified earlier?\n"
   ]
  },
  {
   "cell_type": "code",
   "execution_count": null,
   "metadata": {},
   "outputs": [],
   "source": [
    "# Task 2.1 Create a bar chart to visualise the sales trends across the week. \n",
    "import matplotlib.pyplot as plt\n",
    "\n",
    "# Create a bar chart to visualise the sales trends across the week. \n",
    "# What patterns or fluctuations do you notice over the days? \n",
    "# How do they align with the strongest day identified earlier?\n",
    "\n",
    "\n",
    "# extract the day of the week from the Date column\n",
    "data['Date'] = pd.to_datetime(data['Date'])\n",
    "data['Day_of_Week'] = data['Date'].dt.day_name()\n",
    "\n",
    "# TODO: Add code to group sales by the of the week\n",
    "\n",
    "# Uncomment this if you want to start the week on Monday\n",
    "# weekly_sales is the grouped sales per day of the week.\n",
    "# Sort days in order (if needed)\n",
    "# day_order = ['Monday', 'Tuesday', 'Wednesday', 'Thursday', 'Friday', 'Saturday', 'Sunday']\n",
    "# weekly_sales = weekly_sales.reindex(day_order)\n",
    "\n",
    "# Create a bar chart\n",
    "weekly_sales.plot(kind='bar', color='skyblue', figsize=(8, 5))\n",
    "\n",
    "# Add titles and labels\n",
    "plt.title('Sales Trends Across the Week', fontsize=14)\n",
    "plt.xlabel('Day of the Week', fontsize=12)\n",
    "plt.ylabel('Total Sales', fontsize=12)\n",
    "\n",
    "\n",
    "# Show the chart\n",
    "plt.tight_layout()\n",
    "plt.show()\n"
   ]
  }
 ],
 "metadata": {
  "kernelspec": {
   "display_name": "Python 3",
   "language": "python",
   "name": "python3"
  },
  "language_info": {
   "codemirror_mode": {
    "name": "ipython",
    "version": 3
   },
   "file_extension": ".py",
   "mimetype": "text/x-python",
   "name": "python",
   "nbconvert_exporter": "python",
   "pygments_lexer": "ipython3",
   "version": "3.11.4"
  }
 },
 "nbformat": 4,
 "nbformat_minor": 2
}
